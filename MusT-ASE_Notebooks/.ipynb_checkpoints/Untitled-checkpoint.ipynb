{
 "cells": [
  {
   "cell_type": "code",
   "execution_count": 1,
   "metadata": {},
   "outputs": [],
   "source": [
    "!mkdir Al AlNi AuPd_CPA"
   ]
  },
  {
   "cell_type": "code",
   "execution_count": 2,
   "metadata": {},
   "outputs": [],
   "source": [
    "from ase.calculators.must import MuST, generate_starting_potentials\n",
    "from ase.build import bulk\n",
    "import os"
   ]
  },
  {
   "cell_type": "code",
   "execution_count": 3,
   "metadata": {},
   "outputs": [],
   "source": [
    "os.chdir('Al')"
   ]
  },
  {
   "cell_type": "markdown",
   "metadata": {},
   "source": [
    "### Short introduction to atoms object in ASE"
   ]
  },
  {
   "cell_type": "code",
   "execution_count": 4,
   "metadata": {},
   "outputs": [
    {
     "data": {
      "text/plain": [
       "Atoms(symbols='Al4', pbc=True, cell=[4.05, 4.05, 4.05])"
      ]
     },
     "execution_count": 4,
     "metadata": {},
     "output_type": "execute_result"
    }
   ],
   "source": [
    "#Create atoms object\n",
    "atoms = bulk('Al', a=4.05, cubic = True)\n",
    "\n",
    "atoms"
   ]
  },
  {
   "cell_type": "markdown",
   "metadata": {},
   "source": [
    "Each atom can be accessed with its index:"
   ]
  },
  {
   "cell_type": "code",
   "execution_count": 5,
   "metadata": {},
   "outputs": [
    {
     "name": "stdout",
     "output_type": "stream",
     "text": [
      "Atom('Al', [0.0, 0.0, 0.0], index=0)\n",
      "Atom('Al', [0.0, 2.025, 2.025], index=1)\n",
      "Atom('Al', [2.025, 0.0, 2.025], index=2)\n",
      "Atom('Al', [2.025, 2.025, 0.0], index=3)\n"
     ]
    }
   ],
   "source": [
    "print(atoms[0])\n",
    "print(atoms[1])\n",
    "print(atoms[2])\n",
    "print(atoms[3])"
   ]
  },
  {
   "cell_type": "markdown",
   "metadata": {},
   "source": [
    "Accessing the unit cell dimensions and atom positions:"
   ]
  },
  {
   "cell_type": "code",
   "execution_count": 6,
   "metadata": {},
   "outputs": [
    {
     "name": "stdout",
     "output_type": "stream",
     "text": [
      "Unit cell: Cell([4.05, 4.05, 4.05])\n",
      "Positions: [[0.    0.    0.   ]\n",
      " [0.    2.025 2.025]\n",
      " [2.025 0.    2.025]\n",
      " [2.025 2.025 0.   ]]\n"
     ]
    }
   ],
   "source": [
    "print('Unit cell:',atoms.get_cell())\n",
    "print('Positions:',atoms.get_positions())"
   ]
  },
  {
   "cell_type": "markdown",
   "metadata": {},
   "source": [
    "Bigger supercell can be made by repeating a structure with `make_supercell`:"
   ]
  },
  {
   "cell_type": "code",
   "execution_count": 7,
   "metadata": {},
   "outputs": [
    {
     "data": {
      "text/plain": [
       "Atoms(symbols='Al32', pbc=True, cell=[8.1, 8.1, 8.1])"
      ]
     },
     "execution_count": 7,
     "metadata": {},
     "output_type": "execute_result"
    }
   ],
   "source": [
    "from ase.build import make_supercell\n",
    "\n",
    "supercell = make_supercell(atoms, ([[2, 0, 0], [0, 2, 0], [0, 0, 2]]))\n",
    "supercell"
   ]
  },
  {
   "cell_type": "markdown",
   "metadata": {},
   "source": [
    "### KKR calculation on a primitive Aluminum unit cell:"
   ]
  },
  {
   "cell_type": "code",
   "execution_count": 8,
   "metadata": {},
   "outputs": [
    {
     "data": {
      "text/plain": [
       "Atoms(symbols='Al', pbc=True, cell=[[0.0, 2.025, 2.025], [2.025, 0.0, 2.025], [2.025, 2.025, 0.0]])"
      ]
     },
     "execution_count": 8,
     "metadata": {},
     "output_type": "execute_result"
    }
   ],
   "source": [
    "# Making a primitive unit cell\n",
    "atoms = bulk('Al', a=4.05, cubic=False)\n",
    "atoms"
   ]
  },
  {
   "cell_type": "code",
   "execution_count": 9,
   "metadata": {},
   "outputs": [],
   "source": [
    "# Generate starting potentials (Generates Al_ss_pot)\n",
    "generate_starting_potentials(atoms, crystal_type=1, a=4.05)\n",
    "\n",
    "# Create a MuST calculator object\n",
    "calc = MuST(default_in_pot='Al_ss_pot', # Starting potential file name\n",
    "           default_out_pot='Al',        # Output potential file name\n",
    "           pot_in_form=0,               # Starting potential file format\n",
    "           pot_out_form=0,              # Output potentials file format\n",
    "           nscf=50,                     # No. of SCF iterations\n",
    "           method=2,                    # Method of calculation (2=KKR)\n",
    "           potential_type=0,            # Potential type (0=Muffin tin)\n",
    "           xc='GGA_X_PBE_SOL+GGA_C_PBE_SOL', # XC functional\n",
    "           spin=1,                      # Number of spins \n",
    "           kpts=(12,12,12),             # K-points grid\n",
    "           bzsym=1)                     # Symmetrize BZ Integration\n",
    "\n",
    "# Attach calculator to the atoms object\n",
    "atoms.set_calculator(calc)\n",
    "\n",
    "# Trigger KKR calculation using .get_potential_energy()\n",
    "energy = atoms.get_potential_energy()"
   ]
  },
  {
   "cell_type": "code",
   "execution_count": 10,
   "metadata": {},
   "outputs": [
    {
     "name": "stdout",
     "output_type": "stream",
     "text": [
      "-6582.117008139085\n"
     ]
    }
   ],
   "source": [
    "# Print total energy (eV)\n",
    "print(energy)"
   ]
  },
  {
   "cell_type": "markdown",
   "metadata": {},
   "source": [
    "### KKR calculation on a BCC AlNi unit cell:"
   ]
  },
  {
   "cell_type": "code",
   "execution_count": 11,
   "metadata": {},
   "outputs": [],
   "source": [
    "os.chdir('../AlNi')"
   ]
  },
  {
   "cell_type": "code",
   "execution_count": 12,
   "metadata": {},
   "outputs": [
    {
     "name": "stdout",
     "output_type": "stream",
     "text": [
      "Atom('Al', [0.0, 0.0, 0.0], index=0)\n",
      "Atom('Ni', [1.445, 1.445, 1.445], index=1)\n"
     ]
    }
   ],
   "source": [
    "# Make a BCC cell\n",
    "cell = bulk('Al', 'bcc', cubic=True, a=2.89)\n",
    "\n",
    "# Replace the second atom with Ni\n",
    "cell[1].symbol = 'Ni'\n",
    "\n",
    "print(cell[0])\n",
    "print(cell[1])"
   ]
  },
  {
   "cell_type": "code",
   "execution_count": 13,
   "metadata": {},
   "outputs": [],
   "source": [
    "# Generate starting potentials (Generates Al_ss_pot)\n",
    "generate_starting_potentials(cell, crystal_type=2, a=2.89)\n",
    "\n",
    "# Create a MuST calculator object\n",
    "calc = MuST(default_in_pot='Al_ss_pot Ni_ss_pot', # Starting potential file names\n",
    "           default_out_pot='AlNi',        # Output potential file name\n",
    "           pot_in_form=0,\n",
    "           pot_out_form=0,\n",
    "           nscf=80,\n",
    "           method=2,\n",
    "           potential_type=0,\n",
    "           xc='GGA_X_PBE_SOL+GGA_C_PBE_SOL',\n",
    "           spin=1,\n",
    "           kpts=(12,12,12),\n",
    "           bzsym=1)\n",
    "\n",
    "# Attach calculator to the atoms object\n",
    "cell.set_calculator(calc)\n",
    "\n",
    "# Trigger KKR calculation using .get_potential_energy()\n",
    "energy = cell.get_potential_energy()"
   ]
  },
  {
   "cell_type": "code",
   "execution_count": 14,
   "metadata": {},
   "outputs": [
    {
     "name": "stdout",
     "output_type": "stream",
     "text": [
      "-23795.462830530236\n"
     ]
    }
   ],
   "source": [
    "print(energy)"
   ]
  },
  {
   "cell_type": "markdown",
   "metadata": {},
   "source": [
    "### KKR-CPA calculation"
   ]
  },
  {
   "cell_type": "code",
   "execution_count": 15,
   "metadata": {},
   "outputs": [],
   "source": [
    "os.chdir('../AuPd_CPA')"
   ]
  },
  {
   "cell_type": "markdown",
   "metadata": {},
   "source": [
    "Use the `.info` attribute to define each site in the system as a CPA site:\n",
    "* If you define CPA sites this way and mention `method=3` in `MuST` object, the chemical symbols in the `Atoms` object don't matter anymore\n",
    "* Position of each site is still taken from the `Atoms`\n",
    "object\n",
    "* CPA sites should be defined as a dictionary: `{'CPA': [list_of_sites]}`\n",
    "* Each element in the `list_of_sites` is a dictionary `{'index': int, 'Symbol1': fraction, 'Symbol2': fraction ...}`\n",
    "* Here, index should match the index from `Atoms` object. That's where it's position is taken from. Length of this list should match the number of atoms in `Atoms` object."
   ]
  },
  {
   "cell_type": "code",
   "execution_count": 16,
   "metadata": {},
   "outputs": [
    {
     "data": {
      "text/plain": [
       "{'CPA': [{'index': 0, 'Au': 0.5, 'Pd': 0.5}]}"
      ]
     },
     "execution_count": 16,
     "metadata": {},
     "output_type": "execute_result"
    }
   ],
   "source": [
    "atoms = bulk('Au', 'fcc', a=4.2, cubic = False)\n",
    "\n",
    "# Add CPA sites\n",
    "cell.info = {'CPA': [{'index': 0, 'Au': 0.5, 'Pd': 0.5}]}\n",
    "cell.info"
   ]
  },
  {
   "cell_type": "code",
   "execution_count": 17,
   "metadata": {},
   "outputs": [],
   "source": [
    "# Generate starting potentials\n",
    "generate_starting_potentials(cell, crystal_type=1, a=4.2, cpa=True)\n",
    "\n",
    "# Create a MuST calculator object\n",
    "calc = MuST(default_in_pot='Au_ss_pot Pd_ss_pot',\n",
    "           default_out_pot='AuPd',\n",
    "           pot_in_form=0,\n",
    "           pot_out_form=0,\n",
    "           nscf=90,\n",
    "           method=3,                    # Method of calculation (3=KKR-CPA)\n",
    "           potential_type=0,\n",
    "           xc='GGA_X_PBE_SOL+GGA_C_PBE_SOL',\n",
    "           spin=1,\n",
    "           kpts=(12,12,12),\n",
    "           bzsym=1)\n",
    "\n",
    "# Attach calculator to the atoms object\n",
    "cell.set_calculator(calc)\n",
    "\n",
    "# Trigger KKR calculation using .get_potential_energy()\n",
    "energy = cell.get_potential_energy()"
   ]
  },
  {
   "cell_type": "markdown",
   "metadata": {},
   "source": [
    "To define multiple CPA sites:"
   ]
  },
  {
   "cell_type": "code",
   "execution_count": 18,
   "metadata": {},
   "outputs": [
    {
     "data": {
      "text/plain": [
       "Atoms(symbols='Al2', pbc=True, cell=[2.89, 2.89, 2.89])"
      ]
     },
     "execution_count": 18,
     "metadata": {},
     "output_type": "execute_result"
    }
   ],
   "source": [
    "cell = bulk('Al', 'bcc', cubic=True, a=2.89)\n",
    "cell"
   ]
  },
  {
   "cell_type": "code",
   "execution_count": 19,
   "metadata": {},
   "outputs": [
    {
     "data": {
      "text/plain": [
       "{'CPA': [{'index': 0, 'Al': 0.5, 'Ni': 0.5},\n",
       "  {'index': 1, 'Al': 0.5, 'Ni': 0.5}]}"
      ]
     },
     "execution_count": 19,
     "metadata": {},
     "output_type": "execute_result"
    }
   ],
   "source": [
    "cell.info = {'CPA': [{'index': 0, 'Al': 0.5, 'Ni': 0.5}, {'index': 1, 'Al': 0.5, 'Ni': 0.5}]}\n",
    "cell.info"
   ]
  }
 ],
 "metadata": {
  "kernelspec": {
   "display_name": "Python 3",
   "language": "python",
   "name": "python3"
  },
  "language_info": {
   "codemirror_mode": {
    "name": "ipython",
    "version": 3
   },
   "file_extension": ".py",
   "mimetype": "text/x-python",
   "name": "python",
   "nbconvert_exporter": "python",
   "pygments_lexer": "ipython3",
   "version": "3.7.4"
  }
 },
 "nbformat": 4,
 "nbformat_minor": 2
}
